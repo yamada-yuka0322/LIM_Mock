{
 "cells": [
  {
   "cell_type": "code",
   "execution_count": 4,
   "id": "a86a677a",
   "metadata": {},
   "outputs": [],
   "source": [
    "from astropy.cosmology import Planck15 as cosmo\n",
    "import numpy as np\n",
    "import h5py\n",
    "import os\n",
    "import matplotlib.pyplot as plt"
   ]
  },
  {
   "cell_type": "code",
   "execution_count": 4,
   "id": "e4d8c915",
   "metadata": {},
   "outputs": [
    {
     "data": {
      "text/plain": [
       "array([  68.58304516,  133.48749425,  272.69745418,  405.77238951,\n",
       "        543.78581002,  704.53520638,  834.43995696,  985.49685035,\n",
       "       1131.35509142, 1295.08802143, 1452.08139008, 1602.56518142,\n",
       "       1746.79096041, 1904.29763786, 2054.38182378, 2197.44950413,\n",
       "       2350.51036042, 2495.74549886, 2648.57566199, 2793.06595998,\n",
       "       2943.12057158, 3084.61099364, 3218.23748455, 3355.78868971,\n",
       "       3495.95636605, 3627.74654509, 3761.16620966, 3886.5726185 ,\n",
       "       4012.87660989, 4139.28321611, 4257.92908986, 4376.31098938])"
      ]
     },
     "execution_count": 4,
     "metadata": {},
     "output_type": "execute_result"
    }
   ],
   "source": [
    "z_list = [0.023, 0.045, 0.093, 0.14, 0.19, 0.25, 0.30, 0.36, 0.42, 0.49, 0.56, 0.63, 0.70, 0.78, 0.86, 0.94, 1.03, 1.12, 1.22, 1.32, 1.43, 1.54, 1.65, 1.77, 1.90, 2.03, 2.17, 2.31, 2.46, 2.62, 2.78, 2.95]\n",
    "Dc_list = cosmo.comoving_distance(z_list).value  # in Mpc\n",
    "h = 0.6774\n",
    "Dc_list*h"
   ]
  },
  {
   "cell_type": "code",
   "execution_count": 28,
   "id": "6e58a172",
   "metadata": {},
   "outputs": [],
   "source": [
    "redshift = [0.093, 0.14, 0.19, 0.25, 0.30, 0.36, 0.42, 0.49, 0.56, 0.63, 0.70, 0.78, 0.86, 0.94, 1.03, 1.12, 1.22, 1.32, 1.43, 1.54, 1.65, 1.77, 1.90, 2.03, 2.17, 2.31, 2.46, 2.62, 2.78, 2.95, 3.13]\n",
    "Dc_list = cosmo.comoving_distance(redshift).value  # in Mpc\n",
    "h = 0.6774\n",
    "Dc = Dc_list*h\n",
    "center = 0.5*(Dc[1:] + Dc[:-1])\n",
    "width = center[1:] - center[:-1]\n",
    "width /= 400.0\n",
    "width = np.append(1.0, width)\n",
    "width = np.append(width, 1.0)\n",
    "id = np.arange(47, 16, -1)\n",
    "np.append(1.0, width)\n",
    "np.savetxt('../snapshot_ids_UCHUU.txt',np.vstack([id, width, np.array(redshift)]).T, fmt=('%d', '%.3f', '%.3f'))\n",
    "np.savetxt('../snapshot_redshift_UCHUU.txt',np.vstack([id, np.array(redshift)]).T, fmt=('%d', '%.3f'))"
   ]
  },
  {
   "cell_type": "code",
   "execution_count": 18,
   "id": "572f6553",
   "metadata": {},
   "outputs": [
    {
     "name": "stdout",
     "output_type": "stream",
     "text": [
      "<KeysViewHDF5 ['A_x', 'A_x_500c', 'A_y', 'A_y_500c', 'A_z', 'A_z_500c', 'Acc_Rate_100Myr', 'Acc_Rate_1_Tdyn', 'Acc_Rate_2_Tdyn', 'Acc_Rate_Inst', 'Acc_Rate_Mpeak', 'Acc_Scale', 'Breadth_first_ID', 'Depth_first_ID', 'First_Acc_Mvir', 'First_Acc_Scale', 'First_Acc_Vmax', 'Future_merger_MMP_ID', 'Halfmass_Radius', 'Halfmass_Scale', 'Jx', 'Jy', 'Jz', 'Last_mainleaf_depthfirst_ID', 'Last_progenitor_depthfirst_ID', 'Log_Vmax_Vmax_max_Tdyn_Tmpeak_', 'M200b', 'M200c', 'M2500c', 'M500c', 'M_pe_Behroozi', 'M_pe_Diemer', 'Macc', 'Mpeak', 'Mpeak_Scale', 'Mvir', 'Mvir_all', 'Next_coprogenitor_depthfirst_ID', 'Orig_halo_ID', 'Rs_Klypin', 'Rvir', 'Snap_num', 'Spin', 'Spin_Bullock', 'T_U', 'Tidal_Force', 'Tidal_Force_Tdyn', 'Tidal_ID', 'Time_to_future_merger', 'Tree_root_ID', 'Vacc', 'Vmax_Mpeak', 'Voff', 'Vpeak', 'Xoff', 'b_to_a', 'b_to_a_500c', 'c_to_a', 'c_to_a_500c', 'desc_id', 'desc_pid', 'desc_scale', 'id', 'mmp', 'num_prog', 'phantom', 'pid', 'rs', 'rvmax', 'sam_Mvir', 'scale', 'scale_of_last_MM', 'upid', 'vmax', 'vrms', 'vx', 'vy', 'vz', 'x', 'y', 'z']>\n"
     ]
    },
    {
     "data": {
      "image/png": "[encoded data removed]",
      "text/plain": [
       "<Figure size 640x480 with 1 Axes>"
      ]
     },
     "metadata": {},
     "output_type": "display_data"
    }
   ],
   "source": [
    "cat_dir = \"/Volumes/Extreme Pro/database/LIM_Mock/UCHUU/\"\n",
    "with h5py.File(os.path.join(cat_dir, \"MiniUchuu_halolist_z0p09.h5\"), \"r\") as f:\n",
    "    print(f.keys())\n",
    "    x = f[\"x\"][:]\n",
    "    y = f[\"y\"][:]\n",
    "    z = f[\"z\"][:]\n",
    "\n",
    "    vx = f[\"vx\"][:]\n",
    "    vy = f[\"vy\"][:]\n",
    "    vz = f[\"vz\"][:]\n",
    "\n",
    "    Mvir = f[\"Mvir\"][:]\n",
    "\n",
    "bins = 10**np.linspace(10, 16, 50)\n",
    "plt.hist(Mvir, bins=bins)\n",
    "plt.xscale(\"log\")\n",
    "plt.yscale(\"log\")"
   ]
  },
  {
   "cell_type": "code",
   "execution_count": 7,
   "id": "d4d9881a",
   "metadata": {},
   "outputs": [
    {
     "data": {
      "text/plain": [
       "np.float64(2.901080371391679)"
      ]
     },
     "execution_count": 7,
     "metadata": {},
     "output_type": "execute_result"
    }
   ],
   "source": [
    "Dc_list = cosmo.comoving_distance(2.5).value\n",
    "h = 0.6774\n",
    "np.degrees(np.arctan(205/Dc_list/h))"
   ]
  },
  {
   "cell_type": "code",
   "execution_count": 1,
   "id": "6d7a4248",
   "metadata": {},
   "outputs": [],
   "source": [
    "import sys\n",
    "sys.path.append(\"../..\")\n",
    "import create_lightcone_UCHUU as lc"
   ]
  },
  {
   "cell_type": "code",
   "execution_count": 2,
   "id": "39410dfc",
   "metadata": {},
   "outputs": [
    {
     "name": "stdout",
     "output_type": "stream",
     "text": [
      "Generate the star-formation properties...\n",
      "Draw quenched galaxies...\n",
      "Generate SFRs...\n"
     ]
    },
    {
     "ename": "TypeError",
     "evalue": "'float' object is not subscriptable",
     "output_type": "error",
     "traceback": [
      "\u001b[31m---------------------------------------------------------------------------\u001b[39m",
      "\u001b[31mTypeError\u001b[39m                                 Traceback (most recent call last)",
      "\u001b[36mCell\u001b[39m\u001b[36m \u001b[39m\u001b[32mIn[2]\u001b[39m\u001b[32m, line 2\u001b[39m\n\u001b[32m      1\u001b[39m sides = lc.Sides()\n\u001b[32m----> \u001b[39m\u001b[32m2\u001b[39m \u001b[43msides\u001b[49m\u001b[43m.\u001b[49m\u001b[43mloadUCHUU\u001b[49m\u001b[43m(\u001b[49m\u001b[33;43m\"\u001b[39;49m\u001b[33;43m/Volumes/Extreme Pro/database/LIM_Mock/UCHUU/\u001b[39;49m\u001b[33;43m\"\u001b[39;49m\u001b[43m,\u001b[49m\u001b[43m \u001b[49m\u001b[32;43m0.09\u001b[39;49m\u001b[43m)\u001b[49m\n",
      "\u001b[36mFile \u001b[39m\u001b[32m~/repository/LIM_Mock/TNG/source/notebook/../../create_lightcone_UCHUU.py:52\u001b[39m, in \u001b[36mSides.loadUCHUU\u001b[39m\u001b[34m(self, path, redshift)\u001b[39m\n\u001b[32m     44\u001b[39m Sparam = {\n\u001b[32m     45\u001b[39m \u001b[33m'\u001b[39m\u001b[33mA\u001b[39m\u001b[33m'\u001b[39m:\u001b[32m0.0353\u001b[39m,\n\u001b[32m     46\u001b[39m \u001b[33m'\u001b[39m\u001b[33mMA\u001b[39m\u001b[33m'\u001b[39m:\u001b[32m12.05\u001b[39m,\n\u001b[32m     47\u001b[39m \u001b[33m'\u001b[39m\u001b[33mbeta\u001b[39m\u001b[33m'\u001b[39m:\u001b[32m0.88\u001b[39m,\n\u001b[32m     48\u001b[39m \u001b[33m'\u001b[39m\u001b[33mgamma\u001b[39m\u001b[33m'\u001b[39m:\u001b[32m0.599\u001b[39m\n\u001b[32m     49\u001b[39m }\n\u001b[32m     51\u001b[39m \u001b[38;5;28mself\u001b[39m.Mstar = get_starM(\u001b[38;5;28mself\u001b[39m.mass, \u001b[32m0.6774\u001b[39m, scatter=\u001b[32m0.2\u001b[39m, **Sparam)\n\u001b[32m---> \u001b[39m\u001b[32m52\u001b[39m \u001b[38;5;28mself\u001b[39m.SFR = \u001b[43mget_SFR\u001b[49m\u001b[43m(\u001b[49m\u001b[38;5;28;43mself\u001b[39;49m\u001b[43m)\u001b[49m\n",
      "\u001b[36mFile \u001b[39m\u001b[32m~/repository/LIM_Mock/TNG/source/notebook/../../create_lightcone_UCHUU.py:90\u001b[39m, in \u001b[36mget_SFR\u001b[39m\u001b[34m(sides)\u001b[39m\n\u001b[32m     87\u001b[39m index_SF = np.where(qflag == \u001b[38;5;28;01mFalse\u001b[39;00m)\n\u001b[32m     89\u001b[39m m_SF = np.array(np.log10(sides.Mstar[index_SF[\u001b[32m0\u001b[39m]] * params[\u001b[33m'\u001b[39m\u001b[33mChab2Salp\u001b[39m\u001b[33m'\u001b[39m] / \u001b[32m1.e9\u001b[39m ))\n\u001b[32m---> \u001b[39m\u001b[32m90\u001b[39m z_SF = np.array(\u001b[43msides\u001b[49m\u001b[43m.\u001b[49m\u001b[43mredshift\u001b[49m\u001b[43m[\u001b[49m\u001b[43mindex_SF\u001b[49m\u001b[43m[\u001b[49m\u001b[32;43m0\u001b[39;49m\u001b[43m]\u001b[49m\u001b[43m]\u001b[49m)\n\u001b[32m     91\u001b[39m r = np.log10(\u001b[32m1.\u001b[39m+z_SF)\n\u001b[32m     92\u001b[39m expr = np.maximum(m_SF - params[\u001b[33m'\u001b[39m\u001b[33mm1\u001b[39m\u001b[33m'\u001b[39m] - params[\u001b[33m'\u001b[39m\u001b[33ma2\u001b[39m\u001b[33m'\u001b[39m] * r, \u001b[32m0.\u001b[39m)\n",
      "\u001b[31mTypeError\u001b[39m: 'float' object is not subscriptable"
     ]
    }
   ],
   "source": [
    "sides = lc.Sides()\n",
    "sides.loadUCHUU(\"/Volumes/Extreme Pro/database/LIM_Mock/UCHUU/\", 0.09)"
   ]
  },
  {
   "cell_type": "code",
   "execution_count": null,
   "id": "3358ba3c",
   "metadata": {},
   "outputs": [],
   "source": []
  }
 ],
 "metadata": {
  "kernelspec": {
   "display_name": "disperse",
   "language": "python",
   "name": "disperse"
  },
  "language_info": {
   "codemirror_mode": {
    "name": "ipython",
    "version": 3
   },
   "file_extension": ".py",
   "mimetype": "text/x-python",
   "name": "python",
   "nbconvert_exporter": "python",
   "pygments_lexer": "ipython3",
   "version": "3.13.2"
  }
 },
 "nbformat": 4,
 "nbformat_minor": 5
}
