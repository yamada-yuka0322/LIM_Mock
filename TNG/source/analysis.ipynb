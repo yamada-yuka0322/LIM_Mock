{
 "cells": [
  {
   "cell_type": "code",
   "execution_count": 1,
   "id": "be804437",
   "metadata": {
    "jupyter": {
     "is_executing": true
    }
   },
   "outputs": [],
   "source": [
    "import numpy as np\n",
    "import matplotlib.pyplot as plt\n",
    "import h5py\n",
    "\n",
    "import sys\n",
    "import math\n",
    "\n",
    "from astropy.cosmology import Planck18 as cosmo\n",
    "from astropy import units as u\n",
    "\n",
    "arcmin = 2.908882086656e-4 # [rad] ... PI / 180 / 60 //\n",
    "arcsec = 4.848136811094e-6 # [rad] ... arcmin / 60 //\n",
    "dtheta=27"
   ]
  },
  {
   "cell_type": "code",
   "execution_count": 8,
   "id": "ed841b23-b9ae-4582-9364-67b1fd09652f",
   "metadata": {},
   "outputs": [],
   "source": [
    "import astropy.cosmology\n",
    "#from astropy.cosmology import Planck18 as cosmo\n",
    "import astropy.units as u\n",
    "\n",
    "def arcsec_to_cMpc(l_arcsec, z):\n",
    "    l_rad = l_arcsec * u.arcsec / u.radian\n",
    "    l_cMpc = ( cosmo.comoving_transverse_distance(z) * l_rad ).to(u.Mpc)\n",
    "    return l_cMpc.value \n",
    "\n",
    "def freq_to_comdis(nu_obs, nu_rest):\n",
    "    z = nu_rest / nu_obs - 1\n",
    "    if z < 0:\n",
    "        print(\"Error: z < 0\")\n",
    "        sys.exit(1)\n",
    "    return cosmo.comoving_distance(z).to(u.Mpc).value\n",
    "\n",
    "def calc_LF(x, nbin=20, x_min=-1, x_max=3):\n",
    "    num = np.zeros(nbin)\n",
    "    x_bins = np.linspace(x_min, x_max, nbin+1)\n",
    "    index = np.digitize(x, x_bins) - 1\n",
    "    for ibin in range(nbin):\n",
    "        mask = (index == ibin)\n",
    "        num[ibin] = mask.sum()\n",
    "\n",
    "    return x_bins, num\n"
   ]
  },
  {
   "cell_type": "code",
   "execution_count": 3,
   "id": "1aaff55f",
   "metadata": {},
   "outputs": [],
   "source": [
    "snapshot_id_z1 = 49 # z = 1.0\n",
    "snapshot_id_z2 = 33 # z = 2.0"
   ]
  },
  {
   "cell_type": "code",
   "execution_count": 10,
   "id": "e1dbad5f",
   "metadata": {},
   "outputs": [],
   "source": [
    "data = np.loadtxt(f\"output_TNG300-1_model0/luminosity.{snapshot_id_z1}.txt\")\n",
    "sfr = data[:,7]\n",
    "x_bins1, num1 = calc_LF(sfr)\n",
    "\n",
    "data = np.loadtxt(f\"output_TNG300-1_model0/luminosity.{snapshot_id_z2}.txt\")\n",
    "sfr = data[:,7]\n",
    "x_bins2, num2 = calc_LF(sfr)"
   ]
  },
  {
   "cell_type": "code",
   "execution_count": 16,
   "id": "9c0d9d9d",
   "metadata": {},
   "outputs": [
    {
     "data": {
      "text/plain": [
       "<matplotlib.legend.Legend at 0x12bceda30>"
      ]
     },
     "execution_count": 16,
     "metadata": {},
     "output_type": "execute_result"
    },
    {
     "data": {
      "image/png": "[encoded data removed]",
      "text/plain": [
       "<Figure size 432x288 with 1 Axes>"
      ]
     },
     "metadata": {
      "needs_background": "light"
     },
     "output_type": "display_data"
    }
   ],
   "source": [
    "x_bin_values = 0.5 * (x_bins1[:-1] + x_bins1[1:])\n",
    "dx = x_bins1[1:] - x_bins1[:-1]\n",
    "\n",
    "boxsize = 205 / 0.7 #[Mpc]\n",
    "factor = 1/boxsize**3 / dx\n",
    "\n",
    "plt.figure()\n",
    "\n",
    "plt.plot(x_bin_values, num1*factor, label=r\"$z = 1$\")\n",
    "plt.plot(x_bin_values, num2*factor, label=r\"$z = 2$\")\n",
    "plt.yscale(\"log\")\n",
    "plt.xlabel(\"log SFR [Msun/yr]\")\n",
    "plt.ylabel(r\"$\\Phi\\ [\\rm Mpc^{-3} \\ dex^{-1}]$\")\n",
    "plt.legend()"
   ]
  },
  {
   "cell_type": "code",
   "execution_count": 24,
   "id": "06b85a83",
   "metadata": {},
   "outputs": [
    {
     "name": "stdout",
     "output_type": "stream",
     "text": [
      "# logSFR[Msun/yr] number_density[Mpc^-3 dex^-1]\n",
      "-0.90 2.171101e-02\n",
      "-0.70 1.719355e-02\n",
      "-0.50 1.342797e-02\n",
      "-0.30 1.048772e-02\n",
      "-0.10 8.418209e-03\n",
      "0.10 6.974763e-03\n",
      "0.30 6.047900e-03\n",
      "0.50 5.605570e-03\n",
      "0.70 5.331851e-03\n",
      "0.90 4.668953e-03\n",
      "1.10 3.251386e-03\n",
      "1.30 1.940321e-03\n",
      "1.50 9.885742e-04\n",
      "1.70 4.295898e-04\n",
      "1.90 1.393479e-04\n",
      "2.10 4.558669e-05\n",
      "2.30 1.114784e-05\n",
      "2.50 3.583233e-06\n",
      "2.70 1.194411e-06\n",
      "2.90 1.990685e-07\n"
     ]
    }
   ],
   "source": [
    "print(f\"# logSFR[Msun/yr] number_density[Mpc^-3 dex^-1]\")\n",
    "for i in range(len(num1)):\n",
    "    print(f\"{x_bin_values[i]:.2f} {(num2 * factor)[i]:e}\")"
   ]
  },
  {
   "cell_type": "code",
   "execution_count": null,
   "id": "609345b0",
   "metadata": {},
   "outputs": [],
   "source": []
  }
 ],
 "metadata": {
  "kernelspec": {
   "display_name": "Python 3 (ipykernel)",
   "language": "python",
   "name": "python3"
  },
  "language_info": {
   "codemirror_mode": {
    "name": "ipython",
    "version": 3
   },
   "file_extension": ".py",
   "mimetype": "text/x-python",
   "name": "python",
   "nbconvert_exporter": "python",
   "pygments_lexer": "ipython3",
   "version": "2.7.0"
  }
 },
 "nbformat": 4,
 "nbformat_minor": 5
}
